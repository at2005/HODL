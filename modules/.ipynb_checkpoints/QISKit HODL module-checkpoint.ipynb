{
 "cells": [
  {
   "cell_type": "code",
   "execution_count": 1,
   "id": "b8b9082c",
   "metadata": {},
   "outputs": [],
   "source": [
    "from qiskit import *\n",
    "import re\n",
    "import subprocess\n",
    "import os\n",
    "\n",
    "\"\"\" define a class to hold hodl oracle code alongside parameters\n",
    "this allows many instances of an oracle to be defined --> not limited to\n",
    "input-dependent compilation \n",
    "\"\"\"\n",
    "class HODLOracle:\n",
    "    def __init__(self, func_name, init_params, program):\n",
    "        ### accepts body of the oracle, parameters to the oracle in order, and the oracle name\n",
    "        self.program = program\n",
    "        self.params = init_params\n",
    "        self.fname = func_name\n",
    "        \n",
    "    \"\"\"compilation function --> this takes an oracle instance, generates a HODL program,\n",
    "    invokes the compiler binary, converts the output assembly to a qiskit circuit, and returns it\n",
    "    \"\"\"\n",
    "    def to_circ(self,params):\n",
    "        main = \"function main() {\"\n",
    "        \"\"\"iterate over each parameter and if a quantum register then declare it as\n",
    "         a |0>^n register. This initialization is such so that the circuit can be concatenated\n",
    "         with any desired input register\n",
    "         \"\"\"\n",
    "    \n",
    "        # classical index serves as counter for classically passed values, ie phase angles\n",
    "        cindex = 0\n",
    "        for q in params:\n",
    "            if isinstance(q, QuantumRegister):\n",
    "                main += f\"\\nsuper {q.name} = {2**(q.size)};\\nH({q.name});\"\n",
    "            else:\n",
    "                main += f\"\\nint c{cindex} = {q.name};\"\n",
    "                cindex += 1\n",
    "        \n",
    "        # call function\n",
    "        main += f\"\\n{self.fname}({','.join([p.name for p in params])});\"\n",
    "        result = self.program + main + \"\\n}\"\n",
    "        f = open(\"program.hodl\", \"w\")\n",
    "        f.write(result)\n",
    "        f.close()\n",
    "        subprocess.call([\"./qc\", \"program.hodl\"])\n",
    "        circ = QuantumCircuit.from_qasm_file(\"out.qasm\")\n",
    "        os.remove(\"program.hodl\")\n",
    "        os.remove(\"out.qasm\")\n",
    "        return circ\n",
    "        \n",
    "### takes an oracle and outputs a HODL object      \n",
    "def init_hodl(code):\n",
    "    fname = re.search(\"function (.*)\\(\", code).group(1)\n",
    "    params = re.search(\"\\((.*)\\)\",code).group(1)\n",
    "    params = params.split(\",\")\n",
    "    ### parameter map --> {type: name}\n",
    "    param_dict = {}\n",
    "    for p in params:\n",
    "        p = p.split()\n",
    "        param_dict[p[0]] = p[1]\n",
    "    \n",
    "    oracle = HODLOracle(fname, param_dict, code)\n",
    "    return oracle\n",
    "    \n"
   ]
  },
  {
   "cell_type": "code",
   "execution_count": null,
   "id": "4fd6a555",
   "metadata": {},
   "outputs": [],
   "source": [
    "qr = QuantumRegister(name=\"reg1\", size=3)\n",
    "qr1 = QuantumRegister(name=\"reg2\", size=2)\n"
   ]
  },
  {
   "cell_type": "code",
   "execution_count": null,
   "id": "a6220479",
   "metadata": {},
   "outputs": [],
   "source": [
    "oracle = init_hodl(\"\"\"\n",
    "function cool(super a) {\n",
    "    if(a > 5) {\n",
    "        mark(a,pi);\n",
    "    }\n",
    "}\n",
    "\"\"\")\n"
   ]
  },
  {
   "cell_type": "code",
   "execution_count": null,
   "id": "4f6566f6",
   "metadata": {},
   "outputs": [],
   "source": [
    "oracle.to_circ([qr]).draw(output=\"mpl\")"
   ]
  },
  {
   "cell_type": "code",
   "execution_count": null,
   "id": "40d1f9cf",
   "metadata": {},
   "outputs": [],
   "source": []
  }
 ],
 "metadata": {
  "kernelspec": {
   "display_name": "Python 3 (ipykernel)",
   "language": "python",
   "name": "python3"
  },
  "language_info": {
   "codemirror_mode": {
    "name": "ipython",
    "version": 3
   },
   "file_extension": ".py",
   "mimetype": "text/x-python",
   "name": "python",
   "nbconvert_exporter": "python",
   "pygments_lexer": "ipython3",
   "version": "3.8.13"
  }
 },
 "nbformat": 4,
 "nbformat_minor": 5
}
