{
 "cells": [
  {
   "cell_type": "code",
   "execution_count": 1,
   "id": "9feac494",
   "metadata": {},
   "outputs": [],
   "source": [
    "from qiskit import *"
   ]
  },
  {
   "cell_type": "code",
   "execution_count": 2,
   "id": "b8b9082c",
   "metadata": {},
   "outputs": [],
   "source": [
    "from qiskitHODL import*"
   ]
  },
  {
   "cell_type": "code",
   "execution_count": 3,
   "id": "4fd6a555",
   "metadata": {},
   "outputs": [],
   "source": [
    "qr = QuantumRegister(name=\"reg1\", size=3)"
   ]
  },
  {
   "cell_type": "code",
   "execution_count": 4,
   "id": "a6220479",
   "metadata": {},
   "outputs": [],
   "source": [
    "oracle = compile_oracle(\"\"\"\n",
    "function hodl_oracle(super a, int b) {\n",
    "    if(a > b) {\n",
    "        mark(a,pi);\n",
    "    }\n",
    "}\n",
    "\"\"\")"
   ]
  },
  {
   "cell_type": "code",
   "execution_count": 5,
   "id": "4f6566f6",
   "metadata": {},
   "outputs": [
    {
     "name": "stdout",
     "output_type": "stream",
     "text": [
      "hodl_oracle : 0\n"
     ]
    },
    {
     "data": {
      "text/plain": [
       "<qiskit.circuit.instructionset.InstructionSet at 0x10f287640>"
      ]
     },
     "execution_count": 5,
     "metadata": {},
     "output_type": "execute_result"
    }
   ],
   "source": [
    "from qiskit import QuantumCircuit\n",
    "circ = oracle.to_circ([qr,5])\n",
    "qc = QuantumCircuit(circ.num_qubits, qr.size)\n",
    "qc.h(range(3))\n",
    "qc.compose(circ,range(circ.num_qubits), inplace=True)\n",
    "qc.h(range(3))\n",
    "qc.x(range(3))\n",
    "qc.h(2)\n",
    "qc.ccx(0,1,2)\n",
    "qc.h(2)\n",
    "qc.x(range(3))\n",
    "qc.h(range(3))\n",
    "qc.measure(range(3), range(3))"
   ]
  },
  {
   "cell_type": "code",
   "execution_count": 6,
   "id": "85536f1c",
   "metadata": {},
   "outputs": [
    {
     "name": "stderr",
     "output_type": "stream",
     "text": [
      "/opt/homebrew/Caskroom/miniforge/base/envs/mlp/lib/python3.8/site-packages/numpy/linalg/linalg.py:2158: RuntimeWarning: divide by zero encountered in det\n",
      "  r = _umath_linalg.det(a, signature=signature)\n",
      "/opt/homebrew/Caskroom/miniforge/base/envs/mlp/lib/python3.8/site-packages/numpy/linalg/linalg.py:2158: RuntimeWarning: invalid value encountered in det\n",
      "  r = _umath_linalg.det(a, signature=signature)\n"
     ]
    },
    {
     "data": {
      "image/png": "[encoded data removed]",
      "text/plain": [
       "<Figure size 504x360 with 1 Axes>"
      ]
     },
     "execution_count": 6,
     "metadata": {},
     "output_type": "execute_result"
    }
   ],
   "source": [
    "def runq(circuit):\n",
    "    IBMQ.load_account()\n",
    "    provider = IBMQ.get_provider(hub = 'ibm-q')\n",
    "    device = provider.get_backend('ibmq_qasm_simulator')\n",
    "    job = execute(circuit,backend = device,shots = 1024)\n",
    "    return job.result()\n",
    "\n",
    "res = runq(qc)\n",
    "plot_histogram(res.get_counts())"
   ]
  },
  {
   "cell_type": "code",
   "execution_count": null,
   "id": "713c1ad6",
   "metadata": {},
   "outputs": [],
   "source": []
  }
 ],
 "metadata": {
  "kernelspec": {
   "display_name": "Python 3 (ipykernel)",
   "language": "python",
   "name": "python3"
  },
  "language_info": {
   "codemirror_mode": {
    "name": "ipython",
    "version": 3
   },
   "file_extension": ".py",
   "mimetype": "text/x-python",
   "name": "python",
   "nbconvert_exporter": "python",
   "pygments_lexer": "ipython3",
   "version": "3.8.13"
  }
 },
 "nbformat": 4,
 "nbformat_minor": 5
}
